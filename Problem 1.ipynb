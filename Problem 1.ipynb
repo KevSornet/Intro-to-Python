{
 "cells": [
  {
   "cell_type": "markdown",
   "metadata": {},
   "source": [
    "# Student Details\n",
    "\n",
    "* ID Number: 204791\n",
    "* Surname: Sornet\n",
    "* Year and Course: 2 BS ITE"
   ]
  },
  {
   "cell_type": "markdown",
   "metadata": {},
   "source": [
    "## Write a program that prompts the user to input three positive integers and outputs the average of those three postive integers\n",
    "\n",
    "1. Accept the user's input numbers one at a time. Use this format:\n",
    "* Enter first number: {firstnumber}\n",
    "* Enter second number: {secondnumber}\n",
    "* Enter third number: {thirdnumber}\n",
    "\n",
    "2. The output should display using this format:\n",
    "* The average is {average}.\n",
    "\n",
    "3. The program must, at some point, call a function called three_number_average that accepts three arguments and returns the average of those three arguments."
   ]
  },
  {
   "cell_type": "code",
   "execution_count": null,
   "metadata": {},
   "outputs": [],
   "source": [
    "first_number = int(input(\"Input first number: \"))\n",
    "second_number = int(input(\"Input second number: \"))\n",
    "third_number = int(input(\"Input third number: \"))\n",
    "average = ( first_number + second_number + third_number ) / 3\n",
    "print(average)"
   ]
  },
  {
   "cell_type": "code",
   "execution_count": null,
   "metadata": {},
   "outputs": [],
   "source": []
  }
 ],
 "metadata": {
  "kernelspec": {
   "display_name": "Python 3",
   "language": "python",
   "name": "python3"
  },
  "language_info": {
   "codemirror_mode": {
    "name": "ipython",
    "version": 3
   },
   "file_extension": ".py",
   "mimetype": "text/x-python",
   "name": "python",
   "nbconvert_exporter": "python",
   "pygments_lexer": "ipython3",
   "version": "3.8.5"
  }
 },
 "nbformat": 4,
 "nbformat_minor": 4
}
